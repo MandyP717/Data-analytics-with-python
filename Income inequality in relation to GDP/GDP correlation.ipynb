{
 "cells": [
  {
   "attachments": {},
   "cell_type": "markdown",
   "metadata": {},
   "source": [
    "##### Income inequality in relation to GDP\n",
    "\n",
    "1. Is there a relation between a country's Gross Domestrict Product (GDP) and its income inequality?\n",
    "    * Be aware of the difference between correlation and causation here. A might cause B. B might cause A. But both A and B could be caused by an unknown C as well.\n",
    "\n",
    "\n",
    "One way to express income inequality is to look at a country's \"Gini coefficient\" (also known as \"Gini index\"). You can find a dataset of Gini Coefficients here.\n",
    "\n",
    "\n",
    "You can find a dataset with historical GDP data here.\n",
    "\n",
    "\n",
    "To be able to answer this question you would want to calculate the \"correlation coefficient\" of the GDP and the Gini coefficient. But before you can do that you may need to resample the data so a correlation coefficient can be calculated.\n",
    "\n",
    "\n",
    "If you want to learn more about calculating correlations using pandas and other Python libraries view this short video.\n",
    "https://www.youtube.com/watch?v=TRNaMGkdn-A"
   ]
  },
  {
   "cell_type": "code",
   "execution_count": null,
   "metadata": {},
   "outputs": [],
   "source": []
  }
 ],
 "metadata": {
  "language_info": {
   "name": "python"
  },
  "orig_nbformat": 4
 },
 "nbformat": 4,
 "nbformat_minor": 2
}
