{
 "cells": [
  {
   "cell_type": "code",
   "execution_count": 41,
   "metadata": {},
   "outputs": [],
   "source": [
    "import pandas as pd\n",
    "import numpy as np\n",
    "import matplotlib.pyplot as plt"
   ]
  },
  {
   "cell_type": "code",
   "execution_count": 42,
   "metadata": {},
   "outputs": [],
   "source": [
    "def print_separator(sep, num, msg):\n",
    "  print(\"\\n\")\n",
    "  print(sep * num)\n",
    "  print(f\"{msg}\")\n",
    "  print(sep * num)"
   ]
  },
  {
   "cell_type": "code",
   "execution_count": 43,
   "metadata": {},
   "outputs": [],
   "source": [
    "def unique_values(df, column):\n",
    "    print_separator('*', 50, \"Unique Values\")\n",
    "    unique_vals = df[column].unique()\n",
    "    try:\n",
    "        sorted = np.sort(unique_vals)\n",
    "        print('Sorting succesfull')\n",
    "        display(list(sorted))\n",
    "    except TypeError as error:\n",
    "        print(f'Sorting failed: {error}')\n",
    "        display(list(unique_vals))"
   ]
  },
  {
   "cell_type": "code",
   "execution_count": 44,
   "metadata": {},
   "outputs": [],
   "source": [
    "def exploring_data(df, column):\n",
    "    print_separator('-', 50, f'Checking column #{column}')\n",
    "    unique_values(df, column)\n",
    "    print_separator('*', 50, \"Value counts\")\n",
    "    display(dict(df[column].value_counts(dropna=False)))"
   ]
  },
  {
   "cell_type": "code",
   "execution_count": 45,
   "metadata": {},
   "outputs": [],
   "source": [
    "from collections import Counter\n",
    "\n",
    "def count_activity(df, column):    \n",
    "    c = Counter()\n",
    "    df[column] = df[column].str.lower()\n",
    "    df[column].str.split().apply(c.update)\n",
    "    return c.most_common()"
   ]
  },
  {
   "cell_type": "code",
   "execution_count": 46,
   "metadata": {},
   "outputs": [
    {
     "name": "stdout",
     "output_type": "stream",
     "text": [
      "<class 'pandas.core.frame.DataFrame'>\n",
      "RangeIndex: 25723 entries, 0 to 25722\n",
      "Data columns (total 24 columns):\n",
      " #   Column                  Non-Null Count  Dtype  \n",
      "---  ------                  --------------  -----  \n",
      " 0   Case Number             8702 non-null   object \n",
      " 1   Date                    6302 non-null   object \n",
      " 2   Year                    6300 non-null   float64\n",
      " 3   Type                    6298 non-null   object \n",
      " 4   Country                 6252 non-null   object \n",
      " 5   Area                    5847 non-null   object \n",
      " 6   Location                5762 non-null   object \n",
      " 7   Activity                5758 non-null   object \n",
      " 8   Name                    6092 non-null   object \n",
      " 9   Sex                     5737 non-null   object \n",
      " 10  Age                     3471 non-null   object \n",
      " 11  Injury                  6274 non-null   object \n",
      " 12  Fatal (Y/N)             5763 non-null   object \n",
      " 13  Time                    2948 non-null   object \n",
      " 14  Species                 3464 non-null   object \n",
      " 15  Investigator or Source  6285 non-null   object \n",
      " 16  pdf                     6302 non-null   object \n",
      " 17  href formula            6301 non-null   object \n",
      " 18  href                    6302 non-null   object \n",
      " 19  Case Number.1           6302 non-null   object \n",
      " 20  Case Number.2           6302 non-null   object \n",
      " 21  original order          6309 non-null   float64\n",
      " 22  Unnamed: 22             1 non-null      object \n",
      " 23  Unnamed: 23             2 non-null      object \n",
      "dtypes: float64(2), object(22)\n",
      "memory usage: 4.7+ MB\n",
      "<class 'pandas.core.frame.DataFrame'>\n",
      "Int64Index: 2401 entries, 6302 to 25722\n",
      "Data columns (total 22 columns):\n",
      " #   Column                  Non-Null Count  Dtype  \n",
      "---  ------                  --------------  -----  \n",
      " 0   Case Number             2401 non-null   object \n",
      " 1   Date                    0 non-null      object \n",
      " 2   Year                    0 non-null      float64\n",
      " 3   Type                    0 non-null      object \n",
      " 4   Country                 0 non-null      object \n",
      " 5   Area                    0 non-null      object \n",
      " 6   Location                0 non-null      object \n",
      " 7   Activity                0 non-null      object \n",
      " 8   Name                    0 non-null      object \n",
      " 9   Sex                     0 non-null      object \n",
      " 10  Age                     0 non-null      object \n",
      " 11  Injury                  0 non-null      object \n",
      " 12  Fatal (Y/N)             0 non-null      object \n",
      " 13  Time                    0 non-null      object \n",
      " 14  Species                 0 non-null      object \n",
      " 15  Investigator or Source  0 non-null      object \n",
      " 16  pdf                     0 non-null      object \n",
      " 17  href formula            0 non-null      object \n",
      " 18  href                    0 non-null      object \n",
      " 19  Case Number.1           0 non-null      object \n",
      " 20  Case Number.2           0 non-null      object \n",
      " 21  original order          7 non-null      float64\n",
      "dtypes: float64(2), object(20)\n",
      "memory usage: 431.4+ KB\n"
     ]
    }
   ],
   "source": [
    "shark_attacks = pd.read_csv('attacks.csv', encoding='cp1252')\n",
    "shark_attacks.iloc[0:2].T\n",
    "shark_attacks.info() #The two columns 'Unnamed' contains only 3 entries in total, highest entry count is 8702 - df runs to 25723\n",
    "shark_attacks['Unnamed: 22'].unique() #nonsense entry\n",
    "shark_attacks['Unnamed: 23'].unique() #nonsense entry\n",
    "\n",
    "#dropping the two columns and rows with only NaN\n",
    "shark_attacks.dropna(how = 'all', inplace = True)\n",
    "shark_attacks.drop(columns=['Unnamed: 22', 'Unnamed: 23'], axis=1, inplace=True)\n",
    "\n",
    "more_20 = shark_attacks.loc[shark_attacks.isnull().sum(axis=1) > 19] #checking for rows with only entries in two columns or less\n",
    "more_20.info() #only a few entries in Case Number and original order -> not relevant(drop)\n",
    "shark_attacks.drop(more_20.index, inplace=True)"
   ]
  },
  {
   "cell_type": "markdown",
   "metadata": {},
   "source": [
    "Assumption / Bias: \n",
    "1. Name of Shark is in front of the word 'Shark' atleast once.\n",
    "2. Removed cases where shark involvement is questionable\n",
    "3. If the name of shark contains two seperate words its shortend to the second word\n",
    "4. The first mentioned name of shark is extracted if there is two shark mentioned\n",
    "5. If shark names has to be guessed it will be marked as 'Unknown Shark' (ex: blacktipped is prolly blacktip shark)\n",
    "6. Assumed that Zambesi means Zambezi shark. (Its also a bull shark but not renamed to bullshark)\n",
    "**What are the most dangerous types of sharks to humans?** \n",
    "\n",
    "White shark, Tiger Shark, Bull shark, Blacktip, Nurse"
   ]
  },
  {
   "cell_type": "code",
   "execution_count": 47,
   "metadata": {},
   "outputs": [
    {
     "data": {
      "text/plain": [
       "<AxesSubplot:title={'center':'The type of shark most likely to attack humans'}, xlabel='Shark Name', ylabel='Percentage'>"
      ]
     },
     "execution_count": 47,
     "metadata": {},
     "output_type": "execute_result"
    },
    {
     "data": {
      "image/png": "[encoded data removed]",
      "text/plain": [
       "<Figure size 720x288 with 1 Axes>"
      ]
     },
     "metadata": {
      "needs_background": "light"
     },
     "output_type": "display_data"
    }
   ],
   "source": [
    "import re\n",
    "\n",
    "shark_names = shark_attacks.copy()\n",
    "shark_names.rename(columns={'Species ': 'Species'}, inplace=True)\n",
    "\n",
    "#Selecting only relevant data with case number\n",
    "shark_names = shark_names[['Case Number', 'Species']].copy()\n",
    "shark_names.dropna(subset=['Species'], inplace=True)\n",
    "\n",
    "#dropping 'questionable shark involvement', \n",
    "shark_names.drop(shark_names.loc[shark_names['Species'].str.contains('involvement|Questionable', flags=re.IGNORECASE)].index, inplace=True)\n",
    "\n",
    "#remove all non-alphabetic letters, extract name in front of shark\n",
    "shark_names['Only Alpha'] = shark_names['Species'].str.replace('[^a-zA-Z\\s]', '', regex=True)\n",
    "shark_names.loc[shark_names['Species'].str.contains('7-gill')] = 'Sevengill'\n",
    "shark_names.loc[shark_names['Species'].str.contains('Zambesi')] = 'Zambezi'\n",
    "shark_names['Only Alpha'] = shark_names['Only Alpha'].str.title()\n",
    "shark_names['Extract Name'] = shark_names['Only Alpha'].str.extract('(\\S+(?=\\s+shark|Shark))', flags=re.IGNORECASE)\n",
    "\n",
    "#clean out extracted names\n",
    "shark_names['Extract Name'].loc[shark_names['Extract Name'].str.len() < 3] = 'Unknown Shark'\n",
    "unknown_sharks = [\"Small\", \"Juvenile\", \"Foot\", 'Metre', 'Tipped', \"Greycolored\", \"Captive\", \"Colored\", \n",
    "\"Finned\", 'Young', 'Unidentified', 'Grey',  'Female', 'Two', 'Gaffed', 'Gray', 'Dog','Blackfin', 'For', \n",
    "'Browncolored', 'Red', 'Hooked', 'Larger', 'Involve', 'Several', 'Little', 'Large', 'The', 'Saw', 'From', 'Blacktipped', 'Invalid']\n",
    "shark_names['Extract Name'].replace(unknown_sharks, 'Unknown Shark', inplace=True)\n",
    "\n",
    "#Second extract including all names without shark following its name\n",
    "extract_pattern = '|'.join(list(shark_names['Extract Name'].dropna().unique()))\n",
    "shark_names['Shark Name'] = shark_names['Only Alpha'].str.extract(fr'\\b({ extract_pattern })\\b', expand=False)\n",
    "shark_names['Shark Name'].fillna('Unknown Shark', inplace=True)\n",
    "\n",
    "#convert to percentage and plot bar\n",
    "perc_shark = shark_names.groupby(['Shark Name']).size() / shark_names.groupby(['Shark Name']).size().sum() * 100\n",
    "perc_shark.sort_values(inplace=True, ascending=False)\n",
    "perc_shark.plot(kind='bar', rot=90, figsize=(10,4), title=\"The type of shark most likely to attack humans\", ylabel='Percentage')"
   ]
  },
  {
   "cell_type": "markdown",
   "metadata": {},
   "source": [
    "Assumption / Bias: \n",
    "1. There are no human aged >= 100\n",
    "2. Adults are 18 or older\n",
    "3. Only one age per cell \n",
    "4. There is no relation between the missing data in the  'Age' column with the other columns\n",
    "\n",
    "**are children more likely to be attacked by sharks?**\n",
    "\n",
    "No, Adults are more likely to be attacked."
   ]
  },
  {
   "cell_type": "code",
   "execution_count": 48,
   "metadata": {},
   "outputs": [
    {
     "data": {
      "text/plain": [
       "<AxesSubplot:title={'center':'Who is more likely to get attacked'}, xlabel='Age Group', ylabel='Amount of shark attacks'>"
      ]
     },
     "execution_count": 48,
     "metadata": {},
     "output_type": "execute_result"
    },
    {
     "data": {
      "image/png": "[encoded data removed]",
      "text/plain": [
       "<Figure size 432x288 with 1 Axes>"
      ]
     },
     "metadata": {
      "needs_background": "light"
     },
     "output_type": "display_data"
    }
   ],
   "source": [
    "df_age = shark_attacks.loc[:, ['Case Number', 'Species ', 'Age']].copy()\n",
    "df_age.rename(columns={'Species ': 'Species'}, inplace=True)\n",
    "\n",
    "#dropping the missing data\n",
    "df_age.dropna(subset=['Age'], inplace=True)\n",
    "\n",
    "#extracting digits\n",
    "df_age['Only AlphaNum'] = df_age['Age'].str.replace('[^a-zA-Z0-9\\s]', '', regex=True)\n",
    "df_age['Only AlphaNum'].loc[df_age['Only AlphaNum'].str.contains('months|teen|young', case=False)] = '1'\n",
    "df_age['Only AlphaNum'].loc[df_age['Only AlphaNum'].str.contains('adult|middleage|Elderly', case=False)] = '20'\n",
    "df_age['Numeric'] = df_age['Only AlphaNum'].str.extract('(\\d+)')\n",
    "\n",
    "#clean up remaining data\n",
    "df_age.dropna(subset=['Numeric'], inplace=True)\n",
    "\n",
    "#divide up the different ages in two categories\n",
    "df_age = df_age.astype({'Numeric': 'int'})\n",
    "df_age['Age Group'] = np.select([df_age['Numeric'] >=18, df_age['Numeric'] <18], ['Adult', 'Child'])\n",
    "\n",
    "#plot\n",
    "child_adult = df_age.groupby(['Age Group']).size()\n",
    "child_adult.plot(kind='bar', title='Who is more likely to get attacked', ylabel='Amount of shark attacks')"
   ]
  },
  {
   "cell_type": "markdown",
   "metadata": {},
   "source": [
    "Assumption / Bias: \n",
    "\n",
    "Decision: \n",
    "1. Categorizing [Boat, Boatomg, Boating, 'Sea Disaster', 'Questionable', 'Invalid'] as Invalid \n",
    "     * According to https://en.wikipedia.org/wiki/Shark_attack sea disaster is not categorize as provoked or unprovoked but as a seperate category. \n",
    "     * Boating or anything with boats should actually be subcategorized as 'provoked or unprovoked' (https://vacationwildlife.com/sharks-attack-boats/) \n",
    "2. Injury is not used in analyse.\n",
    "\n",
    "**Are shark attacks where sharks were provoked more or less dangerous?**\n",
    "\n",
    "Unprovoked attack are more dangerous with vastly higher chance for fatality, while provoked barely ever leads to death."
   ]
  },
  {
   "cell_type": "code",
   "execution_count": 49,
   "metadata": {},
   "outputs": [
    {
     "data": {
      "text/plain": [
       "<AxesSubplot:title={'center':'Are provoked attacks more dangerous?'}, xlabel='Type of attack', ylabel='Percentage'>"
      ]
     },
     "execution_count": 49,
     "metadata": {},
     "output_type": "execute_result"
    },
    {
     "data": {
      "image/png": "[encoded data removed]",
      "text/plain": [
       "<Figure size 432x288 with 1 Axes>"
      ]
     },
     "metadata": {
      "needs_background": "light"
     },
     "output_type": "display_data"
    }
   ],
   "source": [
    "df_provoke = shark_attacks.loc[:, ['Type', 'Fatal (Y/N)']].copy()\n",
    "df_provoke['Type'].replace({'Boating':'Invalid', 'Questionable':'Invalid', 'Sea Disaster':'Invalid', 'Boat':'Invalid', 'Boatomg':'Invalid', np.nan:'Invalid'}, inplace=True)\n",
    "df_provoke['Fatal (Y/N)'].replace({np.nan:'Invalid', 'UNKNOWN':'Invalid', ' N':'N', 'N ':'N', 'y': 'Y', 'M':'Invalid', '2017':'Invalid'}, inplace=True)\n",
    "prove_bar = round(df_provoke.groupby(['Type']).value_counts() / df_provoke.groupby(['Type']).size() * 100).unstack()\n",
    "prove_bar.plot(kind='bar', title='Are provoked attacks more dangerous?', xlabel='Type of attack', ylabel='Percentage', rot=0)"
   ]
  },
  {
   "cell_type": "code",
   "execution_count": 54,
   "metadata": {},
   "outputs": [],
   "source": [
    "df_activity = shark_attacks.loc[:, ['Activity', 'Type']].copy()\n",
    "df_activity = df_activity.loc[df_activity['Type'] == 'Provoked'].copy()\n",
    "\n"
   ]
  },
  {
   "cell_type": "markdown",
   "metadata": {},
   "source": [
    "**are certain activities more likely to result in a shark attack?**"
   ]
  },
  {
   "cell_type": "code",
   "execution_count": 51,
   "metadata": {},
   "outputs": [],
   "source": [
    "# df_new = clean_data()[['Activity', 'Type']].copy()\n",
    "# df_act_pro = df_new.loc[df_new['Type'] == 'Provoked'].copy()\n",
    "# df_act_pro.dropna(subset=['Activity'], inplace=True)\n",
    "# count_dict = dict(count_activity(df_act_pro, 'Activity'))\n",
    "# filtered_dict = {k:v for k,v in count_dict.items() if 'ing' in k }\n",
    "# del filtered_dict['attempting']\n",
    "# del filtered_dict['dinghy']\n",
    "# del filtered_dict['landing']\n",
    "# del filtered_dict['inspecting']\n",
    "# del filtered_dict['bringing']\n",
    "# display(filtered_dict)\n",
    "\n",
    "# value_dict = dict(zip(list(filtered_dict.keys()), list(filtered_dict.keys())))\n",
    "# value_dict['spearing'] = 'fishing'\n",
    "# value_dict['lasso'] = 'lassoing shark'\n",
    "# value_dict['kill'] = 'killing shark'\n",
    "# value_dict['hoist'] = 'hoisting shark'\n",
    "# value_dict['net'] = 'netting'\n",
    "# value_dict['grab'] = 'grabbing shark'\n",
    "# value_dict['foot'] = 'foot in shark'\n",
    "# value_dict['harpooned'] = 'spear'\n",
    "\n",
    "# for key, value in value_dict.items():\n",
    "#     df_act_pro['Activity'].loc[df_act_pro['Activity'].str.contains(key)] = value\n",
    "\n",
    "# # df_act_pro['Activity'].loc[df_act_pro.groupby(\"Activity\")['Activity'].transform('size') < 2] = 'Other'\n",
    "# exploring_data(df_act_pro, 'Activity')\n"
   ]
  }
 ],
 "metadata": {
  "kernelspec": {
   "display_name": "Python 3.10.6 64-bit",
   "language": "python",
   "name": "python3"
  },
  "language_info": {
   "codemirror_mode": {
    "name": "ipython",
    "version": 3
   },
   "file_extension": ".py",
   "mimetype": "text/x-python",
   "name": "python",
   "nbconvert_exporter": "python",
   "pygments_lexer": "ipython3",
   "version": "3.10.6 (tags/v3.10.6:9c7b4bd, Aug  1 2022, 21:53:49) [MSC v.1932 64 bit (AMD64)]"
  },
  "orig_nbformat": 4,
  "vscode": {
   "interpreter": {
    "hash": "5ace8cf07365808eeb49fd8de16da3b5a31f615b416fb31d3211f7c120d78c2e"
   }
  }
 },
 "nbformat": 4,
 "nbformat_minor": 2
}
