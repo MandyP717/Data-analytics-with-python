{
 "cells": [
  {
   "cell_type": "code",
   "execution_count": 1,
   "metadata": {},
   "outputs": [],
   "source": [
    "import pandas as pd\n",
    "import numpy as np\n",
    "import matplotlib.pyplot as plt"
   ]
  },
  {
   "cell_type": "code",
   "execution_count": 2,
   "metadata": {},
   "outputs": [],
   "source": [
    "def print_separator(sep, num, msg):\n",
    "  print(\"\\n\")\n",
    "  print(sep * num)\n",
    "  print(f\"{msg}\")\n",
    "  print(sep * num)"
   ]
  },
  {
   "cell_type": "code",
   "execution_count": 3,
   "metadata": {},
   "outputs": [],
   "source": [
    "def unique_values(df, column):\n",
    "    print_separator('*', 50, \"Unique Values\")\n",
    "    unique_vals = df[column].unique()\n",
    "    try:\n",
    "        sorted = np.sort(unique_vals)\n",
    "        print('Sorting succesfull')\n",
    "        display(list(sorted))\n",
    "    except TypeError as error:\n",
    "        print(f'Sorting failed: {error}')\n",
    "        display(list(unique_vals))"
   ]
  },
  {
   "cell_type": "code",
   "execution_count": 4,
   "metadata": {},
   "outputs": [],
   "source": [
    "def exploring_data(df, column):\n",
    "    print_separator('-', 50, f'Checking column #{column}')\n",
    "    unique_values(df, column)\n",
    "    print_separator('*', 50, \"Value counts\")\n",
    "    display(dict(df[column].value_counts(dropna=False)))"
   ]
  },
  {
   "cell_type": "code",
   "execution_count": 5,
   "metadata": {},
   "outputs": [],
   "source": [
    "def cast_to_type(df, column, type):\n",
    "  try:\n",
    "    df[column].astype(type)\n",
    "    print(f\"Casting to {type} was successful\")\n",
    "  except ValueError as error:\n",
    "    print(f\"Could not cast to {type}: {error}\")"
   ]
  },
  {
   "cell_type": "code",
   "execution_count": 6,
   "metadata": {},
   "outputs": [],
   "source": [
    "#exploring_data(shark_attacks, 'Unnamed: 22')\n",
    "#exploring_data(shark_attacks, 'Unnamed: 23')\n",
    "\n",
    "#Columns Unnamed:23 and Unnamed: 22 contain mainly nan. Dropping from dataframe for irrelevance.\n",
    "def clean_data():\n",
    "    data = pd.read_csv('attacks.csv', encoding='cp1252')\n",
    "    data = data.drop(columns=['Unnamed: 22', 'Unnamed: 23'])\n",
    "    return data"
   ]
  },
  {
   "cell_type": "code",
   "execution_count": 7,
   "metadata": {},
   "outputs": [],
   "source": [
    "from collections import Counter\n",
    "\n",
    "def count_activity(df, column):    \n",
    "    c = Counter()\n",
    "    df[column] = df[column].str.lower()\n",
    "    df[column].str.split().apply(c.update)\n",
    "    return c.most_common()"
   ]
  },
  {
   "cell_type": "code",
   "execution_count": 8,
   "metadata": {},
   "outputs": [
    {
     "name": "stdout",
     "output_type": "stream",
     "text": [
      "<class 'pandas.core.frame.DataFrame'>\n",
      "RangeIndex: 25723 entries, 0 to 25722\n",
      "Data columns (total 24 columns):\n",
      " #   Column                  Non-Null Count  Dtype  \n",
      "---  ------                  --------------  -----  \n",
      " 0   Case Number             8702 non-null   object \n",
      " 1   Date                    6302 non-null   object \n",
      " 2   Year                    6300 non-null   float64\n",
      " 3   Type                    6298 non-null   object \n",
      " 4   Country                 6252 non-null   object \n",
      " 5   Area                    5847 non-null   object \n",
      " 6   Location                5762 non-null   object \n",
      " 7   Activity                5758 non-null   object \n",
      " 8   Name                    6092 non-null   object \n",
      " 9   Sex                     5737 non-null   object \n",
      " 10  Age                     3471 non-null   object \n",
      " 11  Injury                  6274 non-null   object \n",
      " 12  Fatal (Y/N)             5763 non-null   object \n",
      " 13  Time                    2948 non-null   object \n",
      " 14  Species                 3464 non-null   object \n",
      " 15  Investigator or Source  6285 non-null   object \n",
      " 16  pdf                     6302 non-null   object \n",
      " 17  href formula            6301 non-null   object \n",
      " 18  href                    6302 non-null   object \n",
      " 19  Case Number.1           6302 non-null   object \n",
      " 20  Case Number.2           6302 non-null   object \n",
      " 21  original order          6309 non-null   float64\n",
      " 22  Unnamed: 22             1 non-null      object \n",
      " 23  Unnamed: 23             2 non-null      object \n",
      "dtypes: float64(2), object(22)\n",
      "memory usage: 4.7+ MB\n",
      "<class 'pandas.core.frame.DataFrame'>\n",
      "Int64Index: 2401 entries, 6302 to 25722\n",
      "Data columns (total 22 columns):\n",
      " #   Column                  Non-Null Count  Dtype  \n",
      "---  ------                  --------------  -----  \n",
      " 0   Case Number             2401 non-null   object \n",
      " 1   Date                    0 non-null      object \n",
      " 2   Year                    0 non-null      float64\n",
      " 3   Type                    0 non-null      object \n",
      " 4   Country                 0 non-null      object \n",
      " 5   Area                    0 non-null      object \n",
      " 6   Location                0 non-null      object \n",
      " 7   Activity                0 non-null      object \n",
      " 8   Name                    0 non-null      object \n",
      " 9   Sex                     0 non-null      object \n",
      " 10  Age                     0 non-null      object \n",
      " 11  Injury                  0 non-null      object \n",
      " 12  Fatal (Y/N)             0 non-null      object \n",
      " 13  Time                    0 non-null      object \n",
      " 14  Species                 0 non-null      object \n",
      " 15  Investigator or Source  0 non-null      object \n",
      " 16  pdf                     0 non-null      object \n",
      " 17  href formula            0 non-null      object \n",
      " 18  href                    0 non-null      object \n",
      " 19  Case Number.1           0 non-null      object \n",
      " 20  Case Number.2           0 non-null      object \n",
      " 21  original order          7 non-null      float64\n",
      "dtypes: float64(2), object(20)\n",
      "memory usage: 431.4+ KB\n"
     ]
    }
   ],
   "source": [
    "shark_attacks = pd.read_csv('attacks.csv', encoding='cp1252')\n",
    "shark_attacks.iloc[0:2].T\n",
    "shark_attacks.info() #The two columns 'Unnamed' contains only 3 entries in total, highest entry count is 8702 - df runs to 25723\n",
    "shark_attacks['Unnamed: 22'].unique() #nonsense entry\n",
    "shark_attacks['Unnamed: 23'].unique() #nonsense entry\n",
    "\n",
    "#dropping the two columns and rows with only NaN\n",
    "shark_attacks.dropna(how = 'all', inplace = True)\n",
    "shark_attacks.drop(columns=['Unnamed: 22', 'Unnamed: 23'], axis=1, inplace=True)\n",
    "\n",
    "more_20 = shark_attacks.loc[shark_attacks.isnull().sum(axis=1) > 19] #checking for rows with only entries in two columns or less\n",
    "more_20.info() #only a few entries in Case Number and original order -> not relevant(drop)\n",
    "shark_attacks.drop(more_20.index, inplace=True)"
   ]
  },
  {
   "cell_type": "markdown",
   "metadata": {},
   "source": [
    "Assumption / Bias: \n",
    "1. Name of Shark is in front of the word 'Shark' atleast once.\n",
    "2. Removed cases where shark involvement is questionable\n",
    "3. If the name of shark contains two seperate words its shortend to the second word\n",
    "4. The first mentioned name of shark is extracted if there is two shark mentioned\n",
    "5. If shark names has to be guessed it will be marked as 'Unknown Shark' (ex: blacktipped is prolly blacktip shark)\n",
    "6. Assumed that Zambesi means Zambezi shark. (Its also a bull shark but not renamed to bullshark)\n",
    "**What are the most dangerous types of sharks to humans?** \n",
    "\n",
    "White shark, Tiger Shark, Bull shark, Blacktip, Nurse"
   ]
  },
  {
   "cell_type": "code",
   "execution_count": 45,
   "metadata": {},
   "outputs": [
    {
     "data": {
      "text/plain": [
       "<AxesSubplot:title={'center':'The type of shark most likely to attack humans'}, xlabel='Shark Name', ylabel='Percentage'>"
      ]
     },
     "execution_count": 45,
     "metadata": {},
     "output_type": "execute_result"
    },
    {
     "data": {
      "image/png": "[encoded data removed]",
      "text/plain": [
       "<Figure size 720x288 with 1 Axes>"
      ]
     },
     "metadata": {
      "needs_background": "light"
     },
     "output_type": "display_data"
    }
   ],
   "source": [
    "import re\n",
    "\n",
    "shark_names = shark_attacks.copy()\n",
    "shark_names.rename(columns={'Species ': 'Species'}, inplace=True)\n",
    "\n",
    "#Selecting only relevant data with case number\n",
    "shark_names = shark_names[['Case Number', 'Species']].copy()\n",
    "shark_names.dropna(subset=['Species'], inplace=True)\n",
    "\n",
    "#dropping invalid, 'questionable shark involvement', \n",
    "shark_names.drop(shark_names.loc[shark_names['Species'].str.contains('involvement|invalid|Questionable', flags=re.IGNORECASE)].index, inplace=True)\n",
    "\n",
    "#remove all non-alphabetic letters, extract name in front of shark\n",
    "shark_names['Only Alpha'] = shark_names['Species'].str.replace('[^a-zA-Z\\s]', '', regex=True)\n",
    "shark_names.loc[shark_names['Species'].str.contains('7-gill')] = 'Sevengill'\n",
    "shark_names.loc[shark_names['Species'].str.contains('Zambesi')] = 'Zambezi'\n",
    "shark_names['Only Alpha'] = shark_names['Only Alpha'].str.title()\n",
    "shark_names['Extract Name'] = shark_names['Only Alpha'].str.extract('(\\S+(?=\\s+shark|Shark))', flags=re.IGNORECASE)\n",
    "\n",
    "#clean out extracted names\n",
    "shark_names['Extract Name'].loc[shark_names['Extract Name'].str.len() < 3] = 'Unknown Shark'\n",
    "unknown_sharks = [\"Small\", \"Juvenile\", \"Foot\", 'Metre', 'Tipped', \"Greycolored\", \"Captive\", \"Colored\", \n",
    "\"Finned\", 'Young', 'Unidentified', 'Grey',  'Female', 'Two', 'Gaffed', 'Gray', 'Dog','Blackfin', 'For', \n",
    "'Browncolored', 'Red', 'Hooked', 'Larger', 'Involve', 'Several', 'Little', 'Large', 'The', 'Saw', 'From', 'Blacktipped']\n",
    "shark_names['Extract Name'].replace(unknown_sharks, 'Unknown Shark', inplace=True)\n",
    "\n",
    "#Second extract including all names without shark following its name\n",
    "extract_pattern = '|'.join(list(shark_names['Extract Name'].dropna().unique()))\n",
    "shark_names['Shark Name'] = shark_names['Only Alpha'].str.extract(fr'\\b({ extract_pattern })\\b', expand=False)\n",
    "shark_names['Shark Name'].fillna('Unknown Shark', inplace=True)\n",
    "\n",
    "#solve it with groupby\n",
    "perc_shark = shark_names.groupby(['Shark Name']).size() / shark_names.groupby(['Shark Name']).size().sum() * 100\n",
    "perc_shark.sort_values(inplace=True, ascending=False)\n",
    "perc_shark.plot(kind='bar', rot=90, figsize=(10,4), title=\"The type of shark most likely to attack humans\", ylabel='Percentage')"
   ]
  },
  {
   "cell_type": "markdown",
   "metadata": {},
   "source": [
    "Assumption / Bias: \n",
    "1. There are no human aged >= 1000\n",
    "2. Adults are 18 or older\n",
    "3. Only one age per cell \n",
    "\n",
    "**are children more likely to be attacked by sharks?**\n",
    "\n",
    "No, Adults are more likely to be attacked."
   ]
  },
  {
   "cell_type": "code",
   "execution_count": 10,
   "metadata": {},
   "outputs": [
    {
     "data": {
      "text/html": [
       "<div>\n",
       "<style scoped>\n",
       "    .dataframe tbody tr th:only-of-type {\n",
       "        vertical-align: middle;\n",
       "    }\n",
       "\n",
       "    .dataframe tbody tr th {\n",
       "        vertical-align: top;\n",
       "    }\n",
       "\n",
       "    .dataframe thead th {\n",
       "        text-align: right;\n",
       "    }\n",
       "</style>\n",
       "<table border=\"1\" class=\"dataframe\">\n",
       "  <thead>\n",
       "    <tr style=\"text-align: right;\">\n",
       "      <th></th>\n",
       "      <th>Age Group</th>\n",
       "    </tr>\n",
       "  </thead>\n",
       "  <tbody>\n",
       "    <tr>\n",
       "      <th>Adult</th>\n",
       "      <td>2560</td>\n",
       "    </tr>\n",
       "    <tr>\n",
       "      <th>Child</th>\n",
       "      <td>833</td>\n",
       "    </tr>\n",
       "  </tbody>\n",
       "</table>\n",
       "</div>"
      ],
      "text/plain": [
       "       Age Group\n",
       "Adult       2560\n",
       "Child        833"
      ]
     },
     "metadata": {},
     "output_type": "display_data"
    }
   ],
   "source": [
    "df_age = clean_data()[['Case Number', 'Age']].copy()\n",
    "df_age['Normal'] = df_age['Age'].loc[(df_age['Age'].str.len() < 4)]\n",
    "\n",
    "#casting everything to float\n",
    "df_age['Normal'].replace({'40s': 40, '20s': 20, '60s':60, '30s': 30, '50s': 50, r'^\\s*$': np.nan, '6½': 6.5, '20?':20, '>50':50, 'X': np.nan, 'F': np.nan}, inplace=True, regex = True)\n",
    "#cast_to_type(df_age, 'Normal', float)\n",
    "df_age['Normal'] = df_age['Normal'].astype(float)\n",
    "# exploring_data(df_age, 'Normal')\n",
    "\n",
    "#divide data into child or adult\n",
    "df_age['Age Group'] = np.select([df_age['Normal'] >=18, df_age['Normal'] <18], ['Adult', 'Child'])\n",
    "Child = pd.DataFrame(df_age['Age Group'].value_counts())\n",
    "\n",
    "display(Child[1:])"
   ]
  },
  {
   "cell_type": "markdown",
   "metadata": {},
   "source": [
    "Assumption / Bias: \n",
    "\n",
    "Decision: \n",
    "1. Categorizing [Boat, Boatomg, Boating, 'Sea Disaster', 'Questionable', 'Invalid'] as third category \\\n",
    "     * According to https://en.wikipedia.org/wiki/Shark_attack sea disaster is not categorize as provoked or unprovoked but as a seperate category. \\\n",
    "     * Boating or anything with boats should actually be subcategorized as 'provoked or unprovoked' (https://vacationwildlife.com/sharks-attack-boats/) \\\n",
    "2. Injury is not used in analyse.\n",
    "\n",
    "**are shark attacks where sharks were provoked more or less dangerous?**\n",
    "\n",
    "Unprovoked attack are more dangerous with vastly higher chance for fatality, while provoked barely ever leads to death."
   ]
  },
  {
   "cell_type": "code",
   "execution_count": 11,
   "metadata": {},
   "outputs": [
    {
     "name": "stdout",
     "output_type": "stream",
     "text": [
      "\n",
      "\n",
      "--------------------------------------------------\n",
      "Checking column #Type\n",
      "--------------------------------------------------\n",
      "\n",
      "\n",
      "**************************************************\n",
      "Unique Values\n",
      "**************************************************\n",
      "Sorting succesfull\n"
     ]
    },
    {
     "data": {
      "text/plain": [
       "['Provoked', 'Unprovoked']"
      ]
     },
     "metadata": {},
     "output_type": "display_data"
    },
    {
     "name": "stdout",
     "output_type": "stream",
     "text": [
      "\n",
      "\n",
      "**************************************************\n",
      "Value counts\n",
      "**************************************************\n"
     ]
    },
    {
     "data": {
      "text/plain": [
       "{'Unprovoked': 4595, 'Provoked': 574}"
      ]
     },
     "metadata": {},
     "output_type": "display_data"
    }
   ],
   "source": [
    "df_provoke = clean_data()[['Type', 'Injury', 'Fatal (Y/N)']].copy()\n",
    "df_nona = df_provoke.loc[(df_provoke['Type'] == 'Unprovoked') | (df_provoke['Type'] == 'Provoked')].copy()\n",
    "df_nona['Fatal (Y/N)'].replace({np.nan:None, 'UNKNOWN':None, ' N':'N', 'N ':'N', 'y': 'Y', 'M':None, '2017':None }, inplace=True)\n",
    "exploring_data(df_nona, 'Type')"
   ]
  },
  {
   "cell_type": "markdown",
   "metadata": {},
   "source": [
    "A"
   ]
  },
  {
   "cell_type": "code",
   "execution_count": 12,
   "metadata": {},
   "outputs": [
    {
     "data": {
      "text/plain": [
       "{'fishing': 242,\n",
       " 'spearfishing': 59,\n",
       " 'diving': 38,\n",
       " 'fishing,': 15,\n",
       " 'surfing': 12,\n",
       " 'swimming': 11,\n",
       " 'feeding': 9,\n",
       " 'wading': 8,\n",
       " 'removing': 8,\n",
       " 'standing': 8,\n",
       " 'snorkeling': 5,\n",
       " 'filming': 5,\n",
       " 'spearfishing,': 5,\n",
       " 'netting': 5,\n",
       " 'freediving': 4,\n",
       " 'hauling': 4,\n",
       " 'touching': 3,\n",
       " 'diving,': 3,\n",
       " 'holding': 3,\n",
       " 'tagging': 3,\n",
       " 'carrying': 3,\n",
       " 'finning': 3,\n",
       " 'pulling': 3,\n",
       " 'helping': 3,\n",
       " 'collecting': 3,\n",
       " 'teasing': 2,\n",
       " 'petting': 2,\n",
       " 'canoeing': 2,\n",
       " 'standing,': 2,\n",
       " 'sailing': 2,\n",
       " 'killing': 2,\n",
       " 'wading,': 2,\n",
       " 'moving': 2,\n",
       " 'skindiving': 2,\n",
       " 'gaffing': 2,\n",
       " 'hunting': 2,\n",
       " 'spearing': 2,\n",
       " 'testing': 2,\n",
       " 'watching': 2,\n",
       " 'dragging': 2,\n",
       " 'towing': 2,\n",
       " 'hoisting': 2,\n",
       " 'shooting': 2,\n",
       " 'grabbing': 1,\n",
       " 'lobstering': 1,\n",
       " 'measuring': 1,\n",
       " 'boarding': 1,\n",
       " 'reviving': 1,\n",
       " 'kissing': 1,\n",
       " 'walking,': 1,\n",
       " 'surfing,': 1,\n",
       " 'conducting': 1,\n",
       " 'returning': 1,\n",
       " 'meshing': 1,\n",
       " 'force-feeding': 1,\n",
       " 'surf-fishing': 1,\n",
       " 'sight-seeing': 1,\n",
       " 'picking': 1,\n",
       " 'splashing': 1,\n",
       " 'clamming': 1,\n",
       " 'catching': 1,\n",
       " 'rowing': 1,\n",
       " '(trolling)': 1,\n",
       " 'cleaning': 1,\n",
       " 'chasing': 1,\n",
       " 'bathing': 1,\n",
       " 'riding': 1,\n",
       " 'dangling': 1,\n",
       " 'tossing': 1,\n",
       " 'lifting': 1,\n",
       " 'paddling': 1,\n",
       " 'swimming,': 1,\n",
       " 'floating': 1,\n",
       " 'competing': 1,\n",
       " '(trawling)': 1,\n",
       " 'cutting': 1,\n",
       " 'examining': 1,\n",
       " 'placing': 1,\n",
       " 'sculling': 1,\n",
       " 'surf-skiing': 1,\n",
       " 'paddleskiing': 1,\n",
       " 'cruising': 1,\n",
       " 'bring': 1,\n",
       " 'boating': 1,\n",
       " 'feeling': 1,\n",
       " 'stuffing': 1,\n",
       " 'angling': 1,\n",
       " 'restraining': 1,\n",
       " '(seining)': 1,\n",
       " 'harassing': 1,\n",
       " 'diving.': 1}"
      ]
     },
     "metadata": {},
     "output_type": "display_data"
    },
    {
     "name": "stdout",
     "output_type": "stream",
     "text": [
      "\n",
      "\n",
      "--------------------------------------------------\n",
      "Checking column #Activity\n",
      "--------------------------------------------------\n",
      "\n",
      "\n",
      "**************************************************\n",
      "Unique Values\n",
      "**************************************************\n",
      "Sorting succesfull\n"
     ]
    },
    {
     "name": "stderr",
     "output_type": "stream",
     "text": [
      "C:\\Users\\Mandy\\AppData\\Local\\Temp\\ipykernel_8976\\1987777294.py:24: UserWarning: This pattern is interpreted as a regular expression, and has match groups. To actually get the groups, use str.extract.\n",
      "  df_act_pro['Activity'].loc[df_act_pro['Activity'].str.contains(key)] = value\n"
     ]
    },
    {
     "data": {
      "text/plain": [
       "[' ',\n",
       " \"accidentally stood on hooked shark's tail before attempting to gut it \",\n",
       " 'angling',\n",
       " 'attempting to anesthetize shark',\n",
       " 'attempting to drag hooked shark ashore by its tail',\n",
       " 'attempting to drive shark from area',\n",
       " 'attempting to rescue an injured & beached shark',\n",
       " 'attempting to ride a shark',\n",
       " 'boarding',\n",
       " 'boating',\n",
       " 'bring',\n",
       " 'canoeing',\n",
       " 'carrying',\n",
       " 'catching',\n",
       " 'chasing',\n",
       " 'clamming',\n",
       " 'cleaning',\n",
       " 'collecting',\n",
       " 'conducting',\n",
       " 'cruising',\n",
       " 'cutting',\n",
       " 'diving',\n",
       " 'dragging',\n",
       " 'examining',\n",
       " 'feeding',\n",
       " 'feeling',\n",
       " 'fell off surf ski',\n",
       " 'fell onto dead shark',\n",
       " 'filming',\n",
       " 'finning',\n",
       " 'fishing',\n",
       " 'floating',\n",
       " 'foot in shark',\n",
       " 'gaffing',\n",
       " 'grabbing shark',\n",
       " 'harassing',\n",
       " 'hauling',\n",
       " 'helping',\n",
       " 'hoisting shark',\n",
       " 'holding',\n",
       " 'hunting',\n",
       " 'in rubber dinghy with captain eddie rickenbacker for 21 days. ',\n",
       " 'inspecting teeth of supposedly dead (hooked & shot) shark',\n",
       " 'jumped off surfboard & landed on the shark',\n",
       " 'killing shark',\n",
       " 'landing hooked shark in boat',\n",
       " 'lassoing shark',\n",
       " 'lobstering',\n",
       " 'measuring',\n",
       " 'meshing',\n",
       " 'moving',\n",
       " 'netting',\n",
       " 'paddleskiing',\n",
       " 'petting',\n",
       " 'picking',\n",
       " 'placed hand in disemboweled shark’s jaws',\n",
       " 'pulling',\n",
       " 'restraining',\n",
       " 'returning',\n",
       " 'reviving',\n",
       " 'rowing',\n",
       " 'sailing',\n",
       " \"scientific research (dr. sonny gruber's student)\",\n",
       " 'sculling',\n",
       " 'shooting',\n",
       " 'sight-seeing',\n",
       " 'slapped shark on tail as it swam by',\n",
       " 'snorkeling',\n",
       " 'spear',\n",
       " 'splashing',\n",
       " 'standing',\n",
       " 'steinhart aquarium',\n",
       " 'stuffing',\n",
       " 'surf-skiing',\n",
       " 'surfing',\n",
       " 'swimming',\n",
       " 'tagging',\n",
       " 'teasing',\n",
       " 'testing',\n",
       " 'touching',\n",
       " 'underwater photography',\n",
       " 'wading',\n",
       " 'watching']"
      ]
     },
     "metadata": {},
     "output_type": "display_data"
    },
    {
     "name": "stdout",
     "output_type": "stream",
     "text": [
      "\n",
      "\n",
      "**************************************************\n",
      "Value counts\n",
      "**************************************************\n"
     ]
    },
    {
     "data": {
      "text/plain": [
       "{'fishing': 324,\n",
       " 'diving': 46,\n",
       " 'surfing': 13,\n",
       " 'swimming': 12,\n",
       " 'standing': 9,\n",
       " 'moving': 8,\n",
       " 'wading': 8,\n",
       " 'feeding': 7,\n",
       " 'netting': 5,\n",
       " 'snorkeling': 5,\n",
       " 'killing shark': 4,\n",
       " 'tagging': 3,\n",
       " 'helping': 3,\n",
       " 'collecting': 3,\n",
       " 'touching': 3,\n",
       " 'finning': 3,\n",
       " 'holding': 2,\n",
       " 'dragging': 2,\n",
       " 'foot in shark': 2,\n",
       " 'hauling': 2,\n",
       " 'pulling': 2,\n",
       " 'shooting': 2,\n",
       " 'gaffing': 2,\n",
       " 'filming': 2,\n",
       " 'hunting': 2,\n",
       " 'teasing': 2,\n",
       " 'sailing': 2,\n",
       " 'canoeing': 2,\n",
       " 'grabbing shark': 2,\n",
       " 'petting': 2,\n",
       " 'lassoing shark': 2,\n",
       " 'carrying': 2,\n",
       " 'examining': 1,\n",
       " 'watching': 1,\n",
       " 'bring': 1,\n",
       " 'underwater photography': 1,\n",
       " 'attempting to ride a shark': 1,\n",
       " 'in rubber dinghy with captain eddie rickenbacker for 21 days. ': 1,\n",
       " 'sculling': 1,\n",
       " 'fell off surf ski': 1,\n",
       " 'cutting': 1,\n",
       " 'surf-skiing': 1,\n",
       " 'fell onto dead shark': 1,\n",
       " 'paddleskiing': 1,\n",
       " 'cruising': 1,\n",
       " 'landing hooked shark in boat': 1,\n",
       " 'boating': 1,\n",
       " 'feeling': 1,\n",
       " 'hoisting shark': 1,\n",
       " 'spear': 1,\n",
       " 'stuffing': 1,\n",
       " ' ': 1,\n",
       " 'angling': 1,\n",
       " 'restraining': 1,\n",
       " 'harassing': 1,\n",
       " 'lobstering': 1,\n",
       " 'placed hand in disemboweled shark’s jaws': 1,\n",
       " 'floating': 1,\n",
       " 'conducting': 1,\n",
       " \"scientific research (dr. sonny gruber's student)\": 1,\n",
       " 'jumped off surfboard & landed on the shark': 1,\n",
       " 'returning': 1,\n",
       " 'meshing': 1,\n",
       " 'steinhart aquarium': 1,\n",
       " 'inspecting teeth of supposedly dead (hooked & shot) shark': 1,\n",
       " 'reviving': 1,\n",
       " 'attempting to drag hooked shark ashore by its tail': 1,\n",
       " 'sight-seeing': 1,\n",
       " 'picking': 1,\n",
       " \"accidentally stood on hooked shark's tail before attempting to gut it \": 1,\n",
       " 'splashing': 1,\n",
       " 'boarding': 1,\n",
       " 'clamming': 1,\n",
       " 'measuring': 1,\n",
       " 'attempting to anesthetize shark': 1,\n",
       " 'catching': 1,\n",
       " 'testing': 1,\n",
       " 'rowing': 1,\n",
       " 'cleaning': 1,\n",
       " 'chasing': 1,\n",
       " 'attempting to rescue an injured & beached shark': 1,\n",
       " 'slapped shark on tail as it swam by': 1,\n",
       " 'attempting to drive shark from area': 1}"
      ]
     },
     "metadata": {},
     "output_type": "display_data"
    }
   ],
   "source": [
    "df_new = clean_data()[['Activity', 'Type']].copy()\n",
    "df_act_pro = df_new.loc[df_new['Type'] == 'Provoked'].copy()\n",
    "df_act_pro.dropna(subset=['Activity'], inplace=True)\n",
    "count_dict = dict(count_activity(df_act_pro, 'Activity'))\n",
    "filtered_dict = {k:v for k,v in count_dict.items() if 'ing' in k }\n",
    "del filtered_dict['attempting']\n",
    "del filtered_dict['dinghy']\n",
    "del filtered_dict['landing']\n",
    "del filtered_dict['inspecting']\n",
    "del filtered_dict['bringing']\n",
    "display(filtered_dict)\n",
    "\n",
    "value_dict = dict(zip(list(filtered_dict.keys()), list(filtered_dict.keys())))\n",
    "value_dict['spearing'] = 'fishing'\n",
    "value_dict['lasso'] = 'lassoing shark'\n",
    "value_dict['kill'] = 'killing shark'\n",
    "value_dict['hoist'] = 'hoisting shark'\n",
    "value_dict['net'] = 'netting'\n",
    "value_dict['grab'] = 'grabbing shark'\n",
    "value_dict['foot'] = 'foot in shark'\n",
    "value_dict['harpooned'] = 'spear'\n",
    "\n",
    "for key, value in value_dict.items():\n",
    "    df_act_pro['Activity'].loc[df_act_pro['Activity'].str.contains(key)] = value\n",
    "\n",
    "# df_act_pro['Activity'].loc[df_act_pro.groupby(\"Activity\")['Activity'].transform('size') < 2] = 'Other'\n",
    "exploring_data(df_act_pro, 'Activity')\n"
   ]
  }
 ],
 "metadata": {
  "kernelspec": {
   "display_name": "Python 3.10.6 64-bit",
   "language": "python",
   "name": "python3"
  },
  "language_info": {
   "codemirror_mode": {
    "name": "ipython",
    "version": 3
   },
   "file_extension": ".py",
   "mimetype": "text/x-python",
   "name": "python",
   "nbconvert_exporter": "python",
   "pygments_lexer": "ipython3",
   "version": "3.10.6"
  },
  "orig_nbformat": 4,
  "vscode": {
   "interpreter": {
    "hash": "5ace8cf07365808eeb49fd8de16da3b5a31f615b416fb31d3211f7c120d78c2e"
   }
  }
 },
 "nbformat": 4,
 "nbformat_minor": 2
}
